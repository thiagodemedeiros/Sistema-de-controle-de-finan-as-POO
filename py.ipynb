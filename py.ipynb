{
 "cells": [
  {
   "cell_type": "markdown",
   "metadata": {},
   "source": [
    "# Importar biblioteca necessária"
   ]
  },
  {
   "cell_type": "code",
   "execution_count": 1,
   "metadata": {},
   "outputs": [],
   "source": [
    "import csv"
   ]
  },
  {
   "cell_type": "markdown",
   "metadata": {},
   "source": [
    "# Classe Recebimento"
   ]
  },
  {
   "cell_type": "markdown",
   "metadata": {},
   "source": [
    "### Criar o arquivo csv (não é necessário executar)"
   ]
  },
  {
   "cell_type": "code",
   "execution_count": 15,
   "metadata": {},
   "outputs": [],
   "source": [
    "with open('registro_recebimentos.csv', 'w', newline='', encoding='utf-8') as csvfile:\n",
    "    escrever_registro_recebimentos = csv.writer(csvfile)\n",
    "    escrever_registro_recebimentos.writerow(['ID do Recebimento','Tipo de Recebimento','Valor Recebido','Descrição'])"
   ]
  },
  {
   "cell_type": "markdown",
   "metadata": {},
   "source": [
    "## Classe"
   ]
  },
  {
   "cell_type": "code",
   "execution_count": 5,
   "metadata": {},
   "outputs": [
    {
     "name": "stdout",
     "output_type": "stream",
     "text": [
      "ID -  Tipo  -  Valor  -  Descrição\n",
      "0  |  Serviço  |  1200.5  |  Sem descrição adicionada\n",
      "1  |  Serviço  |  100  |  Pacote de criação pequeno\n",
      "2  |  Salário  |  2500  |  Trabalho de Engenharia de dados\n"
     ]
    }
   ],
   "source": [
    "class Recebimento:\n",
    "    lista_recebimentos_dezembro = []\n",
    "    \n",
    "    def __init__(self, tipo, valor, descricao = 'Sem descrição adicionada'):\n",
    "        self.tipo = tipo\n",
    "        self.valor = valor\n",
    "        self.descricao = descricao\n",
    "\n",
    "    def __str__(self):\n",
    "        if self.descricao == 'Sem descrição adicionada':\n",
    "            return f'O valor foi recebido como {self.tipo}\\nA quantia em dinheiro foi de R${self.valor:.2f}'\n",
    "        else:\n",
    "            return f'O valor foi recebido como {self.tipo}\\nA quantia em dinheiro foi de R${self.valor:.2f}\\n{self.descricao}'\n",
    "        \n",
    "    @classmethod\n",
    "    def adicionar_recebimento(cls, tipo, valor, descricao = 'Sem descrição adicionada'):\n",
    "        pagamento = Recebimento(tipo, valor, descricao)\n",
    "        cls.lista_recebimentos_dezembro.append(pagamento)\n",
    "\n",
    "    @classmethod\n",
    "    def somar_recebimentos_dezembro(cls):\n",
    "        soma = 0\n",
    "        for recebimento in cls.lista_recebimentos_dezembro:\n",
    "            soma = soma + recebimento.valor\n",
    "        print(f'A soma dos valores recebidos em dezembro é de R${soma:.2f}')\n",
    "\n",
    "    @classmethod\n",
    "    def exibir_recebimentos(cls):\n",
    "        print('ID -  Tipo  -  Valor  -  Descrição')\n",
    "        for indice, item in enumerate(cls.lista_recebimentos_dezembro):\n",
    "            print(f'{indice}  |  {item.tipo}  |  {item.valor}  |  {item.descricao}')\n",
    "\n",
    "    @classmethod\n",
    "    def remover_um_recebimento(cls):\n",
    "        print('Listando todos os recebimentos...')\n",
    "        Recebimento.exibir_recebimentos()\n",
    "        escolher_id_para_excluir = int(input('Digite qual o ID do recebimento que quer excluir:'))\n",
    "        if escolher_id_para_excluir <= len(cls.lista_recebimentos_dezembro) or escolher_id_para_excluir >= 0:\n",
    "            cls.lista_recebimentos_dezembro.pop(escolher_id_para_excluir)\n",
    "            linhas_para_manter = []\n",
    "            with open('registro_recebimentos.csv', mode='r', newline='', encoding='utf-8') as csvfile:\n",
    "                next(csvfile, None)\n",
    "                arquivo_csv = csv.reader(csvfile)\n",
    "                for linha in arquivo_csv:\n",
    "                    if int(linha[0]) != escolher_id_para_excluir:\n",
    "                        linhas_para_manter.append(linha)\n",
    "            with open('registro_recebimentos.csv', mode='w', newline='', encoding='utf-8') as csvfile:\n",
    "                cabecalho_csv = ['ID do Recebimento','Tipo de Recebimento','Valor Recebido','Descrição']\n",
    "                arquivo_csv = csv.writer(csvfile)\n",
    "                arquivo_csv.writerow(cabecalho_csv)\n",
    "                arquivo_csv.writerows(linhas_para_manter)\n",
    "        else:\n",
    "            print('Digite um número válido para realizar a operação!')\n",
    "        print('\\nListando todos os recebimentos atualizados...\\n')\n",
    "        Recebimento.exibir_recebimentos()\n",
    "\n",
    "    @classmethod\n",
    "    def registrar_recebimentos_csv(cls):\n",
    "        ids_de_recebimentos = set()\n",
    "        #Verificando o csv para garantir que não aja repetição de IDS de recebimento\n",
    "        with open('registro_recebimentos.csv', 'r', encoding='utf-8') as csvfile:\n",
    "            next(csvfile, None)\n",
    "            leitor_registro_recebimento_csv = csv.reader(csvfile)\n",
    "            for linha in leitor_registro_recebimento_csv:\n",
    "                if linha:\n",
    "                    ids_de_recebimentos.add(int(linha[0]))\n",
    "        #Escrevendo os registros de recebimento no csv\n",
    "        with open('registro_recebimentos.csv', 'a', newline='', encoding='utf-8') as csvfile:\n",
    "            escrever_registro_recebimentos = csv.writer(csvfile)\n",
    "            for indice, linha in enumerate(cls.lista_recebimentos_dezembro):\n",
    "                if indice not in ids_de_recebimentos:\n",
    "                    escrever_registro_recebimentos.writerow([indice, linha.tipo, linha.valor, linha.descricao])\n",
    "        print('\\nTodos os recebimentos foram registrados no CSV\\n')\n",
    "\n",
    "    @classmethod\n",
    "    def dinheiro_disponivel(cls):\n",
    "        soma = 0\n",
    "        for recebimento in cls.lista_recebimentos_dezembro:\n",
    "            soma = soma + recebimento.valor\n",
    "        print(f'A quantia de dinheiro em conta é de:\\n{soma:.2f}')\n",
    "\n",
    "\n",
    "            \n",
    "\n",
    "\n",
    "\n",
    "Recebimento.adicionar_recebimento('Serviço', 1200.50)\n",
    "Recebimento.adicionar_recebimento('Serviço', 100, 'Pacote de criação pequeno')\n",
    "Recebimento.adicionar_recebimento('Salário', 2500, 'Trabalho de Engenharia de dados')\n",
    "\n",
    "# Recebimento.remover_um_recebimento()\n",
    "# Recebimento.adicionar_recebimento('Salário', 3500.89, 'Trabalho de Engenharia de dados')\n",
    "\n",
    "# Recebimento.registrar_recebimentos_csv()\n",
    "# Recebimento.dinheiro_disponivel()\n",
    "\n",
    "Recebimento.exibir_recebimentos()\n",
    "\n",
    "# Recebimento.remover_um_recebimento()"
   ]
  },
  {
   "cell_type": "markdown",
   "metadata": {},
   "source": [
    "# Classe Gasto"
   ]
  },
  {
   "cell_type": "markdown",
   "metadata": {},
   "source": [
    "### Criar o arquivo csv (não é necessário executar)"
   ]
  },
  {
   "cell_type": "code",
   "execution_count": 13,
   "metadata": {},
   "outputs": [],
   "source": [
    "with open('registro_gastos.csv', 'w', newline='', encoding='utf-8') as csvfile:\n",
    "    escrever_registro_gastos = csv.writer(csvfile)\n",
    "    escrever_registro_gastos.writerow(['ID do Recebimento','Tipo de Recebimento','Valor Recebido','Descrição'])"
   ]
  },
  {
   "cell_type": "markdown",
   "metadata": {},
   "source": [
    "## Classe"
   ]
  },
  {
   "cell_type": "code",
   "execution_count": 35,
   "metadata": {},
   "outputs": [
    {
     "name": "stdout",
     "output_type": "stream",
     "text": [
      "ID  -  TIPO  -  VALOR  -  DESCRIÇÃO  -  DATA\n",
      "001   -  Americanas - R$45.55 - Comprando chocolate e biscoito para o cinema - 04/01/2025\n",
      "002   -  Cinema - R$20.15 - Sem descrição adicionada - 04/01/2025\n",
      "003   -  Livraria - R$35.00 - Sem descrição adicionada - 04/01/2025\n"
     ]
    },
    {
     "data": {
      "text/plain": [
       "100.69999999999999"
      ]
     },
     "execution_count": 35,
     "metadata": {},
     "output_type": "execute_result"
    }
   ],
   "source": [
    "class Gasto:\n",
    "    lista_gastos = []\n",
    "    \n",
    "    def __init__(self, id, tipo, valor, data, descricao = 'Sem descrição adicionada'):\n",
    "        self.tipo = tipo\n",
    "        self.valor = valor\n",
    "        self.descricao = descricao\n",
    "        self.data = data\n",
    "        self.id = id\n",
    "\n",
    "    def __str__(self):\n",
    "        if self.descricao == 'Sem descrição adicionada':\n",
    "            return f'O gasto foi com {self.tipo}\\nNo valor de R${self.valor:.2f}'\n",
    "        else:\n",
    "            return f'O gasto foi com {self.tipo}\\nNo valor de R${self.valor:.2f}\\n{self.descricao}'\n",
    "        \n",
    "    @classmethod\n",
    "    def adicionar_gasto(cls, id, tipo, valor, data, descricao = 'Sem descrição adicionada'):\n",
    "        gasto = Gasto(id, tipo, valor, data, descricao)\n",
    "        cls.lista_gastos.append(gasto)\n",
    "        # print(f'Foi feita a seguinte adição de gasto:\\n{gasto}\\n\\n')\n",
    "\n",
    "    @classmethod\n",
    "    def listar_gastos(cls):\n",
    "        print('ID  -  TIPO  -  VALOR  -  DESCRIÇÃO  -  DATA')\n",
    "        for gasto in cls.lista_gastos:\n",
    "            print(f'{gasto.id}   -  {gasto.tipo} - R${gasto.valor:.2f} - {gasto.descricao} - {gasto.data}')\n",
    "\n",
    "    def gasto_total():\n",
    "        with open('registro_gastos.csv', mode='r', newline='', encoding='utf-8') as csvfile:\n",
    "            gastos = 0\n",
    "            next(csvfile, None)\n",
    "            registro_gastos = csv.reader(csvfile)\n",
    "            for linha in registro_gastos:\n",
    "                gastos = gastos + float(linha[2])\n",
    "        return gastos\n",
    "\n",
    "    @classmethod\n",
    "    def registrar_gastos_csv(cls):\n",
    "        ids_registrados = []\n",
    "        with open('registro_gastos.csv', mode='r', newline='', encoding='utf-8') as csvfile:\n",
    "                gastos_csv = csv.reader(csvfile)\n",
    "                next(gastos_csv, None)\n",
    "                for gasto in gastos_csv:\n",
    "                    ids_registrados.append(gasto[0])\n",
    "        with open('registro_gastos.csv', mode='a', newline='', encoding='utf-8') as csvfile:\n",
    "            gastos_csv = csv.writer(csvfile)\n",
    "            for gasto in cls.lista_gastos:\n",
    "                if gasto.id not in ids_registrados:\n",
    "                    gastos_csv.writerow([gasto.id, gasto.tipo, gasto.valor, gasto.descricao, gasto.data])\n",
    "\n",
    "Gasto.adicionar_gasto('001','Americanas',45.55,'04/01/2025','Comprando chocolate e biscoito para o cinema')\n",
    "Gasto.adicionar_gasto('002','Cinema',20.15,'04/01/2025')\n",
    "Gasto.adicionar_gasto('003','Livraria',35,'04/01/2025')\n",
    "\n",
    "Gasto.listar_gastos()\n",
    "\n",
    "Gasto.registrar_gastos_csv()\n",
    "\n",
    "Gasto.gasto_total()"
   ]
  },
  {
   "cell_type": "markdown",
   "metadata": {},
   "source": [
    "# Classe Juntar Csv"
   ]
  },
  {
   "cell_type": "code",
   "execution_count": 38,
   "metadata": {},
   "outputs": [
    {
     "name": "stdout",
     "output_type": "stream",
     "text": [
      "Valor total em conta: 1199.80\n"
     ]
    },
    {
     "data": {
      "text/plain": [
       "100.69999999999999"
      ]
     },
     "execution_count": 38,
     "metadata": {},
     "output_type": "execute_result"
    }
   ],
   "source": [
    "class Registro:\n",
    "\n",
    "    def recebimento_total():\n",
    "        with open('registro_recebimentos.csv', mode='r', newline='', encoding='utf-8') as csvfile:\n",
    "            next(csvfile, None)\n",
    "            registro_recebimentos = csv.reader(csvfile)\n",
    "            recebimentos = 0\n",
    "            for linha in registro_recebimentos:\n",
    "                recebimentos = recebimentos + float(linha[2])\n",
    "            # print(f'{recebimentos:.2f}')\n",
    "            return recebimentos\n",
    "\n",
    "    def saldo_em_caixa():\n",
    "        valor_em_conta = Registro.recebimento_total() - Gasto.gasto_total()\n",
    "        print(f'Valor total em conta: {valor_em_conta:.2f}')\n",
    "\n",
    "Registro.saldo_em_caixa()\n",
    "\n",
    "Gasto.gasto_total()"
   ]
  }
 ],
 "metadata": {
  "kernelspec": {
   "display_name": "Python 3",
   "language": "python",
   "name": "python3"
  },
  "language_info": {
   "codemirror_mode": {
    "name": "ipython",
    "version": 3
   },
   "file_extension": ".py",
   "mimetype": "text/x-python",
   "name": "python",
   "nbconvert_exporter": "python",
   "pygments_lexer": "ipython3",
   "version": "3.12.8"
  }
 },
 "nbformat": 4,
 "nbformat_minor": 2
}
