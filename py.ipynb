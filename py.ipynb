{
 "cells": [
  {
   "cell_type": "markdown",
   "metadata": {},
   "source": [
    "# Importar biblioteca necessária"
   ]
  },
  {
   "cell_type": "code",
   "execution_count": 1,
   "metadata": {},
   "outputs": [],
   "source": [
    "import csv"
   ]
  },
  {
   "cell_type": "markdown",
   "metadata": {},
   "source": [
    "### Criar o arquivo csv (não é necessário executar)"
   ]
  },
  {
   "cell_type": "code",
   "execution_count": 15,
   "metadata": {},
   "outputs": [],
   "source": [
    "with open('registro_recebimentos.csv', 'w', newline='', encoding='utf-8') as csvfile:\n",
    "    escrever_registro_recebimentos = csv.writer(csvfile)\n",
    "    escrever_registro_recebimentos.writerow(['ID do Recebimento','Tipo de Recebimento','Valor Recebido','Descrição'])"
   ]
  },
  {
   "cell_type": "markdown",
   "metadata": {},
   "source": [
    "# Classe Recebimento"
   ]
  },
  {
   "cell_type": "code",
   "execution_count": 8,
   "metadata": {},
   "outputs": [
    {
     "name": "stdout",
     "output_type": "stream",
     "text": [
      "\n",
      "Todos os recebimentos foram registrados no CSV\n",
      "\n",
      "A quantia de dinheiro em conta é de:\n",
      "3800.50\n"
     ]
    }
   ],
   "source": [
    "class Recebimento:\n",
    "    lista_recebimentos_dezembro = []\n",
    "    \n",
    "    def __init__(self, tipo, valor, descricao = 'Sem descrição adicionada'):\n",
    "        self.tipo = tipo\n",
    "        self.valor = valor\n",
    "        self.descricao = descricao\n",
    "\n",
    "    def __str__(self):\n",
    "        if self.descricao == 'Sem descrição adicionada':\n",
    "            return f'O valor foi recebido como {self.tipo}\\nA quantia em dinheiro foi de R${self.valor:.2f}'\n",
    "        else:\n",
    "            return f'O valor foi recebido como {self.tipo}\\nA quantia em dinheiro foi de R${self.valor:.2f}\\n{self.descricao}'\n",
    "        \n",
    "    @classmethod\n",
    "    def adicionar_recebimento(cls, tipo, valor, descricao = 'Sem descrição adicionada'):\n",
    "        pagamento = Recebimento(tipo, valor, descricao)\n",
    "        cls.lista_recebimentos_dezembro.append(pagamento)\n",
    "\n",
    "    @classmethod\n",
    "    def somar_recebimentos_dezembro(cls):\n",
    "        soma = 0\n",
    "        for recebimento in cls.lista_recebimentos_dezembro:\n",
    "            soma = soma + recebimento.valor\n",
    "        print(f'A soma dos valores recebidos em dezembro é de R${soma:.2f}')\n",
    "\n",
    "    @classmethod\n",
    "    def exibir_recebimentos(cls):\n",
    "        print('ID -  Tipo  -  Valor  -  Descrição')\n",
    "        for indice, item in enumerate(cls.lista_recebimentos_dezembro):\n",
    "            print(f'{indice}  |  {item.tipo}  |  {item.valor}  |  {item.descricao}')\n",
    "\n",
    "    @classmethod\n",
    "    def remover_um_recebimento(cls):\n",
    "        print('Listando todos os recebimentos...')\n",
    "        Recebimento.exibir_recebimentos()\n",
    "        escolher_id_para_excluir = int(input('Digite qual o ID do recebimento que quer excluir:'))\n",
    "        if escolher_id_para_excluir <= len(cls.lista_recebimentos_dezembro) or escolher_id_para_excluir >= 0:\n",
    "            cls.lista_recebimentos_dezembro.pop(escolher_id_para_excluir)\n",
    "            linhas_para_manter = []\n",
    "            with open('registro_recebimentos.csv', mode='r', newline='', encoding='utf-8') as csvfile:\n",
    "                next(csvfile, None)\n",
    "                arquivo_csv = csv.reader(csvfile)\n",
    "                for linha in arquivo_csv:\n",
    "                    if int(linha[0]) != escolher_id_para_excluir:\n",
    "                        linhas_para_manter.append(linha)\n",
    "            with open('registro_recebimentos.csv', mode='w', newline='', encoding='utf-8') as csvfile:\n",
    "                cabecalho_csv = ['ID do Recebimento','Tipo de Recebimento','Valor Recebido','Descrição']\n",
    "                arquivo_csv = csv.writer(csvfile)\n",
    "                arquivo_csv.writerow(cabecalho_csv)\n",
    "                arquivo_csv.writerows(linhas_para_manter)\n",
    "        else:\n",
    "            print('Digite um número válido para realizar a operação!')\n",
    "        print('\\nListando todos os recebimentos atualizados...\\n')\n",
    "        Recebimento.exibir_recebimentos()\n",
    "\n",
    "    @classmethod\n",
    "    def registrar_recebimentos_csv(cls):\n",
    "        ids_de_recebimentos = set()\n",
    "        #Verificando o csv para garantir que não aja repetição de IDS de recebimento\n",
    "        with open('registro_recebimentos.csv', 'r', encoding='utf-8') as csvfile:\n",
    "            next(csvfile, None)\n",
    "            leitor_registro_recebimento_csv = csv.reader(csvfile)\n",
    "            for linha in leitor_registro_recebimento_csv:\n",
    "                if linha:\n",
    "                    ids_de_recebimentos.add(int(linha[0]))\n",
    "        #Escrevendo os registros de recebimento no csv\n",
    "        with open('registro_recebimentos.csv', 'a', newline='', encoding='utf-8') as csvfile:\n",
    "            escrever_registro_recebimentos = csv.writer(csvfile)\n",
    "            for indice, linha in enumerate(cls.lista_recebimentos_dezembro):\n",
    "                if indice not in ids_de_recebimentos:\n",
    "                    escrever_registro_recebimentos.writerow([indice, linha.tipo, linha.valor, linha.descricao])\n",
    "        print('\\nTodos os recebimentos foram registrados no CSV\\n')\n",
    "\n",
    "    @classmethod\n",
    "    def dinheiro_disponivel(cls):\n",
    "        soma = 0\n",
    "        for recebimento in cls.lista_recebimentos_dezembro:\n",
    "            soma = soma + recebimento.valor\n",
    "        print(f'A quantia de dinheiro em conta é de:\\n{soma:.2f}')\n",
    "\n",
    "\n",
    "            \n",
    "\n",
    "\n",
    "\n",
    "Recebimento.adicionar_recebimento('Serviço', 1200.50)\n",
    "Recebimento.adicionar_recebimento('Serviço', 100, 'Pacote de criação pequeno')\n",
    "Recebimento.adicionar_recebimento('Salário', 2500, 'Trabalho de Engenharia de dados')\n",
    "\n",
    "# Recebimento.remover_um_recebimento()\n",
    "# Recebimento.adicionar_recebimento('Salário', 3500.89, 'Trabalho de Engenharia de dados')\n",
    "\n",
    "Recebimento.registrar_recebimentos_csv()\n",
    "Recebimento.dinheiro_disponivel()\n",
    "\n",
    "# Recebimento.remover_um_recebimento()"
   ]
  },
  {
   "cell_type": "markdown",
   "metadata": {},
   "source": [
    "# Classe Gasto"
   ]
  },
  {
   "cell_type": "code",
   "execution_count": 15,
   "metadata": {},
   "outputs": [
    {
     "name": "stdout",
     "output_type": "stream",
     "text": [
      "Foi feita a seguinte adição de gasto:\n",
      "O gasto foi com Americanas\n",
      "No valor de R$45.80\n",
      "Comprando chocolate e biscoito para o cinema\n",
      "\n",
      "\n",
      "Foi feita a seguinte adição de gasto:\n",
      "O gasto foi com Cinema\n",
      "No valor de R$20.00\n",
      "\n",
      "\n"
     ]
    }
   ],
   "source": [
    "class Gasto:\n",
    "    lista_gastos = []\n",
    "    \n",
    "    def __init__(self, tipo, valor, descricao = 'Sem descrição adicionada'):\n",
    "        self.tipo = tipo\n",
    "        self.valor = valor\n",
    "        self.descricao = descricao\n",
    "\n",
    "    def __str__(self):\n",
    "        if self.descricao == 'Sem descrição adicionada':\n",
    "            return f'O gasto foi com {self.tipo}\\nNo valor de R${self.valor:.2f}'\n",
    "        else:\n",
    "            return f'O gasto foi com {self.tipo}\\nNo valor de R${self.valor:.2f}\\n{self.descricao}'\n",
    "        \n",
    "    @classmethod\n",
    "    def adicionar_gasto(cls, tipo, valor, descricao = 'Sem descrição adicionada'):\n",
    "        gasto = Gasto(tipo, valor, descricao)\n",
    "        cls.lista_gastos.append(gasto)\n",
    "        print(f'Foi feita a seguinte adição de gasto:\\n{gasto}\\n\\n')\n",
    "\n",
    "Gasto.adicionar_gasto('Americanas',45.8,'Comprando chocolate e biscoito para o cinema')\n",
    "Gasto.adicionar_gasto('Cinema',20)"
   ]
  }
 ],
 "metadata": {
  "kernelspec": {
   "display_name": "Python 3",
   "language": "python",
   "name": "python3"
  },
  "language_info": {
   "codemirror_mode": {
    "name": "ipython",
    "version": 3
   },
   "file_extension": ".py",
   "mimetype": "text/x-python",
   "name": "python",
   "nbconvert_exporter": "python",
   "pygments_lexer": "ipython3",
   "version": "3.12.8"
  }
 },
 "nbformat": 4,
 "nbformat_minor": 2
}
